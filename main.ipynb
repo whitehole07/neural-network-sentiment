{
 "cells": [
  {
   "cell_type": "markdown",
   "metadata": {
    "papermill": {
     "duration": 0.032369,
     "end_time": "2020-10-06T21:19:31.851445",
     "exception": false,
     "start_time": "2020-10-06T21:19:31.819076",
     "status": "completed"
    },
    "tags": []
   },
   "source": [
    "# Introduction to Sentiment Analysis\n",
    "\n",
    "Sentiment analysis is an approach in natural language processing (NLP) used to determine the sentiment expressed in a text, such as a sentence or social media post. It aims to classify the text as positive, negative, or neutral, revealing the writer's opinion or emotional state.\n",
    "\n",
    "Neural networks, specifically recurrent neural networks (RNNs) and convolutional neural networks (CNNs), are widely used for sentiment analysis due to their ability to capture intricate patterns and relationships in data. The sentiment analysis process using neural networks typically involves the following steps:\n",
    "\n",
    "1. **Data Preparation**: Collect or prepare a dataset with labeled examples of text and their corresponding sentiment labels. Preprocess the dataset by tokenizing the text, removing stopwords, and performing any necessary preprocessing steps.\n",
    "\n",
    "2. **Word Embeddings**: Convert the text data into numerical representations suitable for neural networks. Word embeddings, such as Word2Vec or GloVe, map words to continuous vectors, capturing semantic relationships.\n",
    "\n",
    "3. **Neural Network Architecture**: Design a neural network architecture suitable for sentiment analysis. RNNs, like LSTM or GRU, capture contextual information and word dependencies. CNNs, adapted for text analysis, capture local patterns and feature combinations.\n",
    "\n",
    "4. **Training**: Split the labeled dataset into training and validation sets. Feed the training data into the neural network and optimize its parameters using an appropriate optimization algorithm, such as stochastic gradient descent.\n",
    "\n",
    "5. **Evaluation**: Assess the trained model's performance on the validation or test set using metrics like accuracy, precision, recall, and F1 score.\n",
    "\n",
    "6. **Fine-tuning and Hyperparameter Optimization**: Refine the model by adjusting its architecture, hyperparameters, or training process based on evaluation results. This iterative process enhances the model's performance.\n",
    "\n",
    "7. **Inference**: Apply the trained model to predict sentiment in new, unseen text data. The model takes input text, applies preprocessing steps, and produces a sentiment prediction (positive, negative, or neutral).\n",
    "\n",
    "This project utilizes a dataset available [here](https://www.kaggle.com/c/tweet-sentiment-extraction/overview), comprising approximately 20k tweets. Let's begin by importing the required modules:"
   ]
  },
  {
   "cell_type": "code",
   "execution_count": 1,
   "metadata": {
    "execution": {
     "iopub.execute_input": "2020-10-06T21:19:31.986613Z",
     "iopub.status.busy": "2020-10-06T21:19:31.985943Z",
     "iopub.status.idle": "2020-10-06T21:19:41.514922Z",
     "shell.execute_reply": "2020-10-06T21:19:41.515686Z"
    },
    "papermill": {
     "duration": 9.569887,
     "end_time": "2020-10-06T21:19:41.515898",
     "exception": false,
     "start_time": "2020-10-06T21:19:31.946011",
     "status": "completed"
    },
    "tags": [],
    "ExecuteTime": {
     "end_time": "2023-06-23T17:33:49.729673229Z",
     "start_time": "2023-06-23T17:33:47.668221598Z"
    }
   },
   "outputs": [],
   "source": [
    "import numpy as np\n",
    "from nltk.tokenize.treebank import TreebankWordDetokenizer\n",
    "from sklearn.model_selection import train_test_split\n",
    "from sklearn.metrics import confusion_matrix\n",
    "\n",
    "import os\n",
    "os.environ['TF_CPP_MIN_LOG_LEVEL'] = '2'  # Suppress TensorFlow's INFO and WARNING messages\n",
    "import tensorflow as tf\n",
    "import logging\n",
    "tf.get_logger().setLevel(logging.ERROR)  # Suppress TensorFlow's ERROR messages\n",
    "\n",
    "import pandas as pd\n",
    "import seaborn as sns\n",
    "import matplotlib.pyplot as plt\n",
    "import gensim\n",
    "import re\n",
    "\n",
    "import keras\n",
    "from keras.models import Sequential\n",
    "from keras import layers\n",
    "from keras import regularizers\n",
    "from keras.preprocessing.text import Tokenizer\n",
    "from keras.utils import pad_sequences\n",
    "from keras.callbacks import ModelCheckpoint"
   ]
  },
  {
   "cell_type": "markdown",
   "metadata": {
    "papermill": {
     "duration": 0.032245,
     "end_time": "2020-10-06T21:19:41.583484",
     "exception": false,
     "start_time": "2020-10-06T21:19:41.551239",
     "status": "completed"
    },
    "tags": []
   },
   "source": [
    "# Data Visualization\n",
    "\n",
    "The dataset can be loaded as follows:"
   ]
  },
  {
   "cell_type": "code",
   "execution_count": 2,
   "metadata": {
    "_cell_guid": "79c7e3d0-c299-4dcb-8224-4455121ee9b0",
    "_uuid": "d629ff2d2480ee46fbb7e2d37f6b5fab8052498a",
    "execution": {
     "iopub.execute_input": "2020-10-06T21:19:41.667156Z",
     "iopub.status.busy": "2020-10-06T21:19:41.666425Z",
     "iopub.status.idle": "2020-10-06T21:19:41.753917Z",
     "shell.execute_reply": "2020-10-06T21:19:41.752384Z"
    },
    "papermill": {
     "duration": 0.132806,
     "end_time": "2020-10-06T21:19:41.754037",
     "exception": false,
     "start_time": "2020-10-06T21:19:41.621231",
     "status": "completed"
    },
    "tags": [],
    "ExecuteTime": {
     "end_time": "2023-06-23T17:33:49.802689826Z",
     "start_time": "2023-06-23T17:33:49.771056081Z"
    }
   },
   "outputs": [
    {
     "data": {
      "text/plain": "        textID                                               text  \\\n0   cb774db0d1                I`d have responded, if I were going   \n1   549e992a42      Sooo SAD I will miss you here in San Diego!!!   \n2   088c60f138                          my boss is bullying me...   \n3   9642c003ef                     what interview! leave me alone   \n4   358bd9e861   Sons of ****, why couldn`t they put them on t...   \n5   28b57f3990  http://www.dothebouncy.com/smf - some shameles...   \n6   6e0c6d75b1  2am feedings for the baby are fun when he is a...   \n7   50e14c0bb8                                         Soooo high   \n8   e050245fbd                                        Both of you   \n9   fc2cbefa9d   Journey!? Wow... u just became cooler.  hehe....   \n10  2339a9b08b   as much as i love to be hopeful, i reckon the...   \n11  16fab9f95b  I really really like the song Love Story by Ta...   \n12  74a76f6e0a       My Sharpie is running DANGERously low on ink   \n13  04dd1d2e34  i want to go to music tonight but i lost my vo...   \n14  bbe3cbf620                         test test from the LG enV2   \n\n                                        selected_text sentiment  \n0                 I`d have responded, if I were going   neutral  \n1                                            Sooo SAD  negative  \n2                                         bullying me  negative  \n3                                      leave me alone  negative  \n4                                       Sons of ****,  negative  \n5   http://www.dothebouncy.com/smf - some shameles...   neutral  \n6                                                 fun  positive  \n7                                          Soooo high   neutral  \n8                                         Both of you   neutral  \n9                        Wow... u just became cooler.  positive  \n10  as much as i love to be hopeful, i reckon the ...   neutral  \n11                                               like  positive  \n12                                        DANGERously  negative  \n13                                               lost  negative  \n14                         test test from the LG enV2   neutral  ",
      "text/html": "<div>\n<style scoped>\n    .dataframe tbody tr th:only-of-type {\n        vertical-align: middle;\n    }\n\n    .dataframe tbody tr th {\n        vertical-align: top;\n    }\n\n    .dataframe thead th {\n        text-align: right;\n    }\n</style>\n<table border=\"1\" class=\"dataframe\">\n  <thead>\n    <tr style=\"text-align: right;\">\n      <th></th>\n      <th>textID</th>\n      <th>text</th>\n      <th>selected_text</th>\n      <th>sentiment</th>\n    </tr>\n  </thead>\n  <tbody>\n    <tr>\n      <th>0</th>\n      <td>cb774db0d1</td>\n      <td>I`d have responded, if I were going</td>\n      <td>I`d have responded, if I were going</td>\n      <td>neutral</td>\n    </tr>\n    <tr>\n      <th>1</th>\n      <td>549e992a42</td>\n      <td>Sooo SAD I will miss you here in San Diego!!!</td>\n      <td>Sooo SAD</td>\n      <td>negative</td>\n    </tr>\n    <tr>\n      <th>2</th>\n      <td>088c60f138</td>\n      <td>my boss is bullying me...</td>\n      <td>bullying me</td>\n      <td>negative</td>\n    </tr>\n    <tr>\n      <th>3</th>\n      <td>9642c003ef</td>\n      <td>what interview! leave me alone</td>\n      <td>leave me alone</td>\n      <td>negative</td>\n    </tr>\n    <tr>\n      <th>4</th>\n      <td>358bd9e861</td>\n      <td>Sons of ****, why couldn`t they put them on t...</td>\n      <td>Sons of ****,</td>\n      <td>negative</td>\n    </tr>\n    <tr>\n      <th>5</th>\n      <td>28b57f3990</td>\n      <td>http://www.dothebouncy.com/smf - some shameles...</td>\n      <td>http://www.dothebouncy.com/smf - some shameles...</td>\n      <td>neutral</td>\n    </tr>\n    <tr>\n      <th>6</th>\n      <td>6e0c6d75b1</td>\n      <td>2am feedings for the baby are fun when he is a...</td>\n      <td>fun</td>\n      <td>positive</td>\n    </tr>\n    <tr>\n      <th>7</th>\n      <td>50e14c0bb8</td>\n      <td>Soooo high</td>\n      <td>Soooo high</td>\n      <td>neutral</td>\n    </tr>\n    <tr>\n      <th>8</th>\n      <td>e050245fbd</td>\n      <td>Both of you</td>\n      <td>Both of you</td>\n      <td>neutral</td>\n    </tr>\n    <tr>\n      <th>9</th>\n      <td>fc2cbefa9d</td>\n      <td>Journey!? Wow... u just became cooler.  hehe....</td>\n      <td>Wow... u just became cooler.</td>\n      <td>positive</td>\n    </tr>\n    <tr>\n      <th>10</th>\n      <td>2339a9b08b</td>\n      <td>as much as i love to be hopeful, i reckon the...</td>\n      <td>as much as i love to be hopeful, i reckon the ...</td>\n      <td>neutral</td>\n    </tr>\n    <tr>\n      <th>11</th>\n      <td>16fab9f95b</td>\n      <td>I really really like the song Love Story by Ta...</td>\n      <td>like</td>\n      <td>positive</td>\n    </tr>\n    <tr>\n      <th>12</th>\n      <td>74a76f6e0a</td>\n      <td>My Sharpie is running DANGERously low on ink</td>\n      <td>DANGERously</td>\n      <td>negative</td>\n    </tr>\n    <tr>\n      <th>13</th>\n      <td>04dd1d2e34</td>\n      <td>i want to go to music tonight but i lost my vo...</td>\n      <td>lost</td>\n      <td>negative</td>\n    </tr>\n    <tr>\n      <th>14</th>\n      <td>bbe3cbf620</td>\n      <td>test test from the LG enV2</td>\n      <td>test test from the LG enV2</td>\n      <td>neutral</td>\n    </tr>\n  </tbody>\n</table>\n</div>"
     },
     "execution_count": 2,
     "metadata": {},
     "output_type": "execute_result"
    }
   ],
   "source": [
    "train = pd.read_csv('./dataset.csv')\n",
    "\n",
    "train.head(15)"
   ]
  },
  {
   "cell_type": "markdown",
   "metadata": {
    "papermill": {
     "duration": 0.031706,
     "end_time": "2020-10-06T21:19:41.817762",
     "exception": false,
     "start_time": "2020-10-06T21:19:41.786056",
     "status": "completed"
    },
    "tags": []
   },
   "source": [
    "As can be seen, 3 kinds of sentiments can be found in the dataset:\n",
    "1. Positive\n",
    "2. Neutral\n",
    "3. Negative"
   ]
  },
  {
   "cell_type": "code",
   "execution_count": 3,
   "metadata": {
    "execution": {
     "iopub.execute_input": "2020-10-06T21:19:42.060070Z",
     "iopub.status.busy": "2020-10-06T21:19:42.059141Z",
     "iopub.status.idle": "2020-10-06T21:19:42.064587Z",
     "shell.execute_reply": "2020-10-06T21:19:42.064115Z"
    },
    "papermill": {
     "duration": 0.047577,
     "end_time": "2020-10-06T21:19:42.064691",
     "exception": false,
     "start_time": "2020-10-06T21:19:42.017114",
     "status": "completed"
    },
    "tags": [],
    "ExecuteTime": {
     "end_time": "2023-06-23T17:33:49.810164853Z",
     "start_time": "2023-06-23T17:33:49.806143655Z"
    }
   },
   "outputs": [
    {
     "data": {
      "text/plain": "array(['neutral', 'negative', 'positive'], dtype=object)"
     },
     "execution_count": 3,
     "metadata": {},
     "output_type": "execute_result"
    }
   ],
   "source": [
    "# Check what the unique values are\n",
    "train['sentiment'].unique()"
   ]
  },
  {
   "cell_type": "markdown",
   "metadata": {
    "papermill": {
     "duration": 0.033994,
     "end_time": "2020-10-06T21:19:42.255666",
     "exception": false,
     "start_time": "2020-10-06T21:19:42.221672",
     "status": "completed"
    },
    "tags": []
   },
   "source": [
    "# Data Pre-processing\n",
    "A general pre-processing procedure can be summarized with the following steps:\n",
    "1. **Filtering**: This is done by removing URLs and email addresses as these elements don't provide meaningful value for sentiment analysis. Additionally, also punctuation is removed, thus treating \"good!\" and \"good\" as the same sentiment, for instance.\n",
    "2. **Lowercase all text**: Standardizing the text to lowercase helps make the input more consistent. This ensures that phrases like \"Good\" at the beginning of a sentence are not interpreted differently from \"good\" elsewhere.\n",
    "\n",
    "3. **Remove stop-words**: Stop-words are commonly used words in a language that add noise and do not contribute to the overall sentiment. Removing them helps make the data more meaningful.\n",
    "\n",
    "4. **Stemming/Lemmatizing** (optional): Stemming and lemmatizing are techniques to extract the root words from sentences. Stemming often shortens words, while lemmatizing returns valid words.\n",
    "\n",
    "5. **Transform text into numeric tensors**: Deep learning models require numeric tensors as input, so the text data needs to be converted. This process, known as vectorization, is essential. For traditional machine learning models, options like CountVectorizer, TFIDF Vectorizer, or Bag-Of-Words can be used.\n"
   ]
  },
  {
   "cell_type": "markdown",
   "metadata": {},
   "source": [
    "The general structure of the dataset can be modified selecting only the needed columns. The null values are filled with a \"No content\" sentence:"
   ]
  },
  {
   "cell_type": "code",
   "execution_count": 4,
   "metadata": {
    "execution": {
     "iopub.execute_input": "2020-10-06T21:19:42.334657Z",
     "iopub.status.busy": "2020-10-06T21:19:42.333827Z",
     "iopub.status.idle": "2020-10-06T21:19:42.337209Z",
     "shell.execute_reply": "2020-10-06T21:19:42.337696Z"
    },
    "papermill": {
     "duration": 0.04812,
     "end_time": "2020-10-06T21:19:42.337823",
     "exception": false,
     "start_time": "2020-10-06T21:19:42.289703",
     "status": "completed"
    },
    "tags": [],
    "ExecuteTime": {
     "end_time": "2023-06-23T17:33:49.847320882Z",
     "start_time": "2023-06-23T17:33:49.818560748Z"
    }
   },
   "outputs": [
    {
     "data": {
      "text/plain": "                         selected_text sentiment\n0  I`d have responded, if I were going   neutral\n1                             Sooo SAD  negative\n2                          bullying me  negative\n3                       leave me alone  negative\n4                        Sons of ****,  negative",
      "text/html": "<div>\n<style scoped>\n    .dataframe tbody tr th:only-of-type {\n        vertical-align: middle;\n    }\n\n    .dataframe tbody tr th {\n        vertical-align: top;\n    }\n\n    .dataframe thead th {\n        text-align: right;\n    }\n</style>\n<table border=\"1\" class=\"dataframe\">\n  <thead>\n    <tr style=\"text-align: right;\">\n      <th></th>\n      <th>selected_text</th>\n      <th>sentiment</th>\n    </tr>\n  </thead>\n  <tbody>\n    <tr>\n      <th>0</th>\n      <td>I`d have responded, if I were going</td>\n      <td>neutral</td>\n    </tr>\n    <tr>\n      <th>1</th>\n      <td>Sooo SAD</td>\n      <td>negative</td>\n    </tr>\n    <tr>\n      <th>2</th>\n      <td>bullying me</td>\n      <td>negative</td>\n    </tr>\n    <tr>\n      <th>3</th>\n      <td>leave me alone</td>\n      <td>negative</td>\n    </tr>\n    <tr>\n      <th>4</th>\n      <td>Sons of ****,</td>\n      <td>negative</td>\n    </tr>\n  </tbody>\n</table>\n</div>"
     },
     "execution_count": 4,
     "metadata": {},
     "output_type": "execute_result"
    }
   ],
   "source": [
    "train = train[['selected_text','sentiment']]\n",
    "train[\"selected_text\"].fillna(\"No content\", inplace = True)\n",
    "train.head()"
   ]
  },
  {
   "cell_type": "markdown",
   "metadata": {},
   "source": [
    "The data can now be filtered using the following function:"
   ]
  },
  {
   "cell_type": "code",
   "execution_count": 5,
   "metadata": {
    "execution": {
     "iopub.execute_input": "2020-10-06T21:19:42.651469Z",
     "iopub.status.busy": "2020-10-06T21:19:42.650518Z",
     "iopub.status.idle": "2020-10-06T21:19:42.653091Z",
     "shell.execute_reply": "2020-10-06T21:19:42.653513Z"
    },
    "papermill": {
     "duration": 0.044735,
     "end_time": "2020-10-06T21:19:42.653654",
     "exception": false,
     "start_time": "2020-10-06T21:19:42.608919",
     "status": "completed"
    },
    "tags": [],
    "ExecuteTime": {
     "end_time": "2023-06-23T17:33:49.864690451Z",
     "start_time": "2023-06-23T17:33:49.827232547Z"
    }
   },
   "outputs": [],
   "source": [
    "def filter_data(input_data):\n",
    "    # Remove URLs using regular expression\n",
    "    url = re.compile(r'https?://\\S+|www\\.\\S+')\n",
    "    input_data = url.sub(r'', input_data)\n",
    "\n",
    "    # Remove email addresses\n",
    "    input_data = re.sub('\\S*@\\S*\\s?', '', input_data)\n",
    "\n",
    "    # Remove new line characters\n",
    "    input_data = re.sub('\\s+', ' ', input_data)\n",
    "\n",
    "    # Remove distracting single quotes\n",
    "    input_data = re.sub(\"\\'\", \"\", input_data)\n",
    "        \n",
    "    return input_data"
   ]
  },
  {
   "cell_type": "code",
   "execution_count": 6,
   "metadata": {
    "execution": {
     "iopub.execute_input": "2020-10-06T21:19:42.742866Z",
     "iopub.status.busy": "2020-10-06T21:19:42.737799Z",
     "iopub.status.idle": "2020-10-06T21:19:43.099846Z",
     "shell.execute_reply": "2020-10-06T21:19:43.100317Z"
    },
    "papermill": {
     "duration": 0.411166,
     "end_time": "2020-10-06T21:19:43.100446",
     "exception": false,
     "start_time": "2020-10-06T21:19:42.689280",
     "status": "completed"
    },
    "tags": [],
    "ExecuteTime": {
     "end_time": "2023-06-23T17:33:50.027788651Z",
     "start_time": "2023-06-23T17:33:49.831632501Z"
    }
   },
   "outputs": [
    {
     "data": {
      "text/plain": "['I`d have responded, if I were going',\n 'Sooo SAD',\n 'bullying me',\n 'leave me alone',\n 'Sons of ****,']"
     },
     "execution_count": 6,
     "metadata": {},
     "output_type": "execute_result"
    }
   ],
   "source": [
    "# Applying the filter\n",
    "filtered = [filter_data(text) for text in train['selected_text'].values.tolist()]\n",
    "\n",
    "list(filtered[:5])"
   ]
  },
  {
   "cell_type": "markdown",
   "metadata": {},
   "source": [
    "Converting sentences to words:"
   ]
  },
  {
   "cell_type": "code",
   "execution_count": 7,
   "metadata": {
    "execution": {
     "iopub.execute_input": "2020-10-06T21:19:43.217126Z",
     "iopub.status.busy": "2020-10-06T21:19:43.201831Z",
     "iopub.status.idle": "2020-10-06T21:19:44.301157Z",
     "shell.execute_reply": "2020-10-06T21:19:44.300459Z"
    },
    "papermill": {
     "duration": 1.161143,
     "end_time": "2020-10-06T21:19:44.301321",
     "exception": false,
     "start_time": "2020-10-06T21:19:43.140178",
     "status": "completed"
    },
    "tags": [],
    "ExecuteTime": {
     "end_time": "2023-06-23T17:33:50.423696341Z",
     "start_time": "2023-06-23T17:33:50.063655481Z"
    }
   },
   "outputs": [
    {
     "name": "stdout",
     "output_type": "stream",
     "text": [
      "[['have', 'responded', 'if', 'were', 'going'], ['sooo', 'sad'], ['bullying', 'me'], ['leave', 'me', 'alone'], ['sons', 'of']]\n"
     ]
    }
   ],
   "source": [
    "data_words = [gensim.utils.simple_preprocess(str(sentence), deacc=True) for sentence in filtered]\n",
    "\n",
    "print(data_words[:5])"
   ]
  },
  {
   "cell_type": "markdown",
   "metadata": {},
   "source": [
    "This can now be detokenized:"
   ]
  },
  {
   "cell_type": "code",
   "execution_count": 8,
   "metadata": {
    "execution": {
     "iopub.execute_input": "2020-10-06T21:19:44.561022Z",
     "iopub.status.busy": "2020-10-06T21:19:44.550825Z",
     "iopub.status.idle": "2020-10-06T21:19:47.831584Z",
     "shell.execute_reply": "2020-10-06T21:19:47.832620Z"
    },
    "papermill": {
     "duration": 3.326682,
     "end_time": "2020-10-06T21:19:47.832800",
     "exception": false,
     "start_time": "2020-10-06T21:19:44.506118",
     "status": "completed"
    },
    "tags": [],
    "ExecuteTime": {
     "end_time": "2023-06-23T17:33:52.118416154Z",
     "start_time": "2023-06-23T17:33:50.423511857Z"
    }
   },
   "outputs": [
    {
     "name": "stdout",
     "output_type": "stream",
     "text": [
      "['have responded if were going', 'sooo sad', 'bullying me', 'leave me alone', 'sons of']\n"
     ]
    }
   ],
   "source": [
    "data = [TreebankWordDetokenizer().detokenize(text) for text in data_words]\n",
    "\n",
    "print(data[:5])"
   ]
  },
  {
   "cell_type": "markdown",
   "metadata": {},
   "source": [
    "Finally, the pre-processing is complete. As can be seen, the initial noisy text has been transformed into a plain and simple one."
   ]
  },
  {
   "cell_type": "markdown",
   "metadata": {
    "papermill": {
     "duration": 0.037183,
     "end_time": "2020-10-06T21:19:48.013459",
     "exception": false,
     "start_time": "2020-10-06T21:19:47.976276",
     "status": "completed"
    },
    "tags": []
   },
   "source": [
    "# Word Embedding\n",
    "\n",
    "It is essential to understand a crucial step when working with text data. Once the text data is free from unnecessary elements, the next task is to convert it into floating-point tensors. This conversion is achieved using word embeddings.\n",
    "\n",
    "**Word embeddings**, also known as word vectors, are learned from data and are essentially low-dimensional floating-point vectors that contain condensed information. They are different from sparse vectors obtained through methods like one-hot encoding. The reason for using word embeddings is that deep learning models tend to perform better and converge more easily with dense vectors. However, the choice of using word embeddings depends on the nature of the dataset and the specific requirements of the project.\n",
    "\n",
    "There are two ways to obtain word embeddings:\n",
    "\n",
    "1. Using a pre-trained word embedding stack integrated into the model, similar to incorporating a pre-trained neural network layer. However, this approach is not commonly used.\n",
    "\n",
    "2. Learning word embeddings from scratch. This involves starting with random word vectors and progressively learning meaningful ones, similar to how a neural network learns its weights. This option allows for the creation of a new embedding space for each unique task. Fortunately, implementing word embeddings in TensorFlow or Keras is a straightforward process. It can be treated as an additional layer within the neural network structure.\n",
    "\n",
    "In the following code cell, the sentiment labels are mapped to their corresponding numerical values:"
   ]
  },
  {
   "cell_type": "code",
   "execution_count": 9,
   "metadata": {
    "execution": {
     "iopub.execute_input": "2020-10-06T21:19:48.122784Z",
     "iopub.status.busy": "2020-10-06T21:19:48.121518Z",
     "iopub.status.idle": "2020-10-06T21:19:48.125042Z",
     "shell.execute_reply": "2020-10-06T21:19:48.125481Z"
    },
    "papermill": {
     "duration": 0.074223,
     "end_time": "2020-10-06T21:19:48.125627",
     "exception": false,
     "start_time": "2020-10-06T21:19:48.051404",
     "status": "completed"
    },
    "tags": [],
    "ExecuteTime": {
     "end_time": "2023-06-23T17:33:52.130085342Z",
     "start_time": "2023-06-23T17:33:52.123957018Z"
    }
   },
   "outputs": [],
   "source": [
    "labels = np.array(train['sentiment'])\n",
    "label_mapping = {'neutral': 0, 'negative': 1, 'positive': 2}\n",
    "y = np.array([label_mapping[label] for label in labels])\n",
    "labels = tf.keras.utils.to_categorical(y, num_classes=3, dtype=\"float32\")"
   ]
  },
  {
   "cell_type": "markdown",
   "metadata": {
    "papermill": {
     "duration": 0.038298,
     "end_time": "2020-10-06T21:19:48.287312",
     "exception": false,
     "start_time": "2020-10-06T21:19:48.249014",
     "status": "completed"
    },
    "tags": []
   },
   "source": [
    "The data must now be sequenced and split. Firstly, the text is transformed into 3D float data, in this way the neural networks can be trained on it:"
   ]
  },
  {
   "cell_type": "code",
   "execution_count": 10,
   "metadata": {
    "execution": {
     "iopub.execute_input": "2020-10-06T21:19:48.373707Z",
     "iopub.status.busy": "2020-10-06T21:19:48.372469Z",
     "iopub.status.idle": "2020-10-06T21:19:49.386819Z",
     "shell.execute_reply": "2020-10-06T21:19:49.387562Z"
    },
    "papermill": {
     "duration": 1.062302,
     "end_time": "2020-10-06T21:19:49.387739",
     "exception": false,
     "start_time": "2020-10-06T21:19:48.325437",
     "status": "completed"
    },
    "tags": [],
    "ExecuteTime": {
     "end_time": "2023-06-23T17:33:52.823057267Z",
     "start_time": "2023-06-23T17:33:52.130633587Z"
    }
   },
   "outputs": [
    {
     "name": "stdout",
     "output_type": "stream",
     "text": [
      "[[   0    0    0 ...   68  146   41]\n",
      " [   0    0    0 ...    0  397   65]\n",
      " [   0    0    0 ...    0    0   11]\n",
      " ...\n",
      " [   0    0    0 ...  372   10    3]\n",
      " [   0    0    0 ...   24  542    4]\n",
      " [   0    0    0 ... 2424  199  657]]\n"
     ]
    }
   ],
   "source": [
    "max_words = 5000\n",
    "max_len = 200\n",
    "\n",
    "tokenizer = Tokenizer(num_words=max_words)\n",
    "tokenizer.fit_on_texts(data)\n",
    "sequences = tokenizer.texts_to_sequences(data)\n",
    "tweets = pad_sequences(sequences, maxlen=max_len)\n",
    "\n",
    "print(tweets)"
   ]
  },
  {
   "cell_type": "markdown",
   "metadata": {},
   "source": [
    "The dataset can now be split in train and test datasets:"
   ]
  },
  {
   "cell_type": "code",
   "execution_count": 11,
   "metadata": {
    "execution": {
     "iopub.execute_input": "2020-10-06T21:19:49.585814Z",
     "iopub.status.busy": "2020-10-06T21:19:49.584576Z",
     "iopub.status.idle": "2020-10-06T21:19:49.600360Z",
     "shell.execute_reply": "2020-10-06T21:19:49.601002Z"
    },
    "papermill": {
     "duration": 0.069178,
     "end_time": "2020-10-06T21:19:49.601136",
     "exception": false,
     "start_time": "2020-10-06T21:19:49.531958",
     "status": "completed"
    },
    "tags": [],
    "ExecuteTime": {
     "end_time": "2023-06-23T17:33:52.837465677Z",
     "start_time": "2023-06-23T17:33:52.823888932Z"
    }
   },
   "outputs": [
    {
     "name": "stdout",
     "output_type": "stream",
     "text": [
      "Train length 20610 - Test length: 6871\n"
     ]
    }
   ],
   "source": [
    "# Splitting dataset\n",
    "X_train, X_test, y_train, y_test = train_test_split(tweets, labels, random_state=0)\n",
    "print(\"Train length\", len(X_train), \"- Test length:\", len(X_test))"
   ]
  },
  {
   "cell_type": "markdown",
   "metadata": {
    "papermill": {
     "duration": 0.044723,
     "end_time": "2020-10-06T21:19:49.690338",
     "exception": false,
     "start_time": "2020-10-06T21:19:49.645615",
     "status": "completed"
    },
    "tags": []
   },
   "source": [
    "# Model building\n",
    "\n",
    "Three different kinds of Recurrent Neural Networks (RNN) have been explored. Sequential models from the Keras API were used to achieve this task. The following networks will be analyzed:\n",
    "\n",
    "1. **Long Short-Term Memory** (LSTM) Network\n",
    "2. **Bidirectional LSTM** Network\n",
    "3. **Convolutional 1D** Network"
   ]
  },
  {
   "cell_type": "markdown",
   "metadata": {
    "papermill": {
     "duration": 0.044937,
     "end_time": "2020-10-06T21:19:49.968644",
     "exception": false,
     "start_time": "2020-10-06T21:19:49.923707",
     "status": "completed"
    },
    "tags": []
   },
   "source": [
    "## Single LSTM layer model\n",
    "\n",
    "The following code snippet represents a single LSTM layer model.\n",
    "\n",
    "In this code, an **embedding layer** is added to convert integer-encoded words into dense vectors of fixed size (20 in this case).\n",
    "\n",
    "A **single LSTM layer** with 15 units is then added to the model. The LSTM layer processes the sequential input data and captures relevant patterns and dependencies. The ***dropout*** parameter of 0.5 specifies that during training, 50% of the LSTM units will be randomly set to 0 at each update to prevent overfitting.\n",
    "\n",
    "Finally, a **3-unit output layer** is connected. The output layer produces probabilities for each of the three possible classes, indicating the model's predicted class probabilities. In order to make probabilistic outputs, it’s always good to use ***softmax*** as activation function in the final layer."
   ]
  },
  {
   "cell_type": "code",
   "execution_count": 12,
   "metadata": {
    "execution": {
     "iopub.execute_input": "2020-10-06T21:19:50.068632Z",
     "iopub.status.busy": "2020-10-06T21:19:50.067909Z",
     "iopub.status.idle": "2020-10-06T21:30:02.803265Z",
     "shell.execute_reply": "2020-10-06T21:30:02.805203Z"
    },
    "papermill": {
     "duration": 612.793273,
     "end_time": "2020-10-06T21:30:02.806611",
     "exception": false,
     "start_time": "2020-10-06T21:19:50.013338",
     "status": "completed"
    },
    "tags": [],
    "ExecuteTime": {
     "end_time": "2023-06-23T17:41:43.452602405Z",
     "start_time": "2023-06-23T17:33:52.921911202Z"
    }
   },
   "outputs": [
    {
     "name": "stdout",
     "output_type": "stream",
     "text": [
      "Epoch 1/10\n",
      "645/645 [==============================] - 46s 68ms/step - loss: 0.8182 - accuracy: 0.6456 - val_loss: 0.6775 - val_accuracy: 0.7436\n",
      "Epoch 2/10\n",
      "645/645 [==============================] - 45s 70ms/step - loss: 0.6001 - accuracy: 0.7637 - val_loss: 0.5389 - val_accuracy: 0.7890\n",
      "Epoch 3/10\n",
      "645/645 [==============================] - 47s 74ms/step - loss: 0.5129 - accuracy: 0.7996 - val_loss: 0.4939 - val_accuracy: 0.8131\n",
      "Epoch 4/10\n",
      "645/645 [==============================] - 47s 73ms/step - loss: 0.4773 - accuracy: 0.8142 - val_loss: 0.4772 - val_accuracy: 0.8194\n",
      "Epoch 5/10\n",
      "645/645 [==============================] - 50s 77ms/step - loss: 0.4535 - accuracy: 0.8276 - val_loss: 0.4704 - val_accuracy: 0.8213\n",
      "Epoch 6/10\n",
      "645/645 [==============================] - 49s 76ms/step - loss: 0.4361 - accuracy: 0.8358 - val_loss: 0.4584 - val_accuracy: 0.8206\n",
      "Epoch 7/10\n",
      "645/645 [==============================] - 48s 74ms/step - loss: 0.4252 - accuracy: 0.8389 - val_loss: 0.4594 - val_accuracy: 0.8238\n",
      "Epoch 8/10\n",
      "645/645 [==============================] - 47s 73ms/step - loss: 0.4139 - accuracy: 0.8447 - val_loss: 0.4477 - val_accuracy: 0.8249\n",
      "Epoch 9/10\n",
      "645/645 [==============================] - 46s 71ms/step - loss: 0.4041 - accuracy: 0.8470 - val_loss: 0.4469 - val_accuracy: 0.8268\n",
      "Epoch 10/10\n",
      "645/645 [==============================] - 46s 71ms/step - loss: 0.3962 - accuracy: 0.8531 - val_loss: 0.4598 - val_accuracy: 0.8166\n"
     ]
    }
   ],
   "source": [
    "# Build model\n",
    "single_lstm = Sequential()\n",
    "single_lstm.add(layers.Embedding(max_words, 20))\n",
    "single_lstm.add(layers.LSTM(15, dropout=0.5))\n",
    "single_lstm.add(layers.Dense(3, activation='softmax'))\n",
    "\n",
    "# Compile model\n",
    "single_lstm.compile(optimizer='rmsprop', loss='categorical_crossentropy', metrics=['accuracy'])\n",
    "\n",
    "# Init model checkpoins\n",
    "checkpoint_single = ModelCheckpoint(\"best_single_lstm.hdf5\", monitor='val_accuracy', verbose=0, save_best_only=True, mode='auto', save_freq='epoch', save_weights_only=False)\n",
    "\n",
    "# Save history\n",
    "history_single_lstm = single_lstm.fit(X_train, y_train, epochs=10, validation_data=(X_test, y_test), callbacks=[checkpoint_single])"
   ]
  },
  {
   "cell_type": "markdown",
   "metadata": {
    "papermill": {
     "duration": 3.837682,
     "end_time": "2020-10-06T21:30:10.817414",
     "exception": false,
     "start_time": "2020-10-06T21:30:06.979732",
     "status": "completed"
    },
    "tags": []
   },
   "source": [
    "## Bidirectional LTSM model\n",
    "\n",
    "The bidirectional layer enhances the order sensitivity of recurrent neural networks (RNNs) by **combining two RNNs**, such as LSTMs or GRUs, which process the input sequence in different directions and subsequently merge their representations. This approach enables the bidirectional layer to capture more intricate patterns compared to a single RNN layer. Essentially, one of the layers interprets the sequences in chronological order, while the second layer does so in the opposite, or anti-chronological, order. This utilization of bidirectional RNNs has gained widespread popularity due to their ability to deliver superior performance compared to regular RNNs."
   ]
  },
  {
   "cell_type": "code",
   "execution_count": 13,
   "metadata": {
    "execution": {
     "iopub.execute_input": "2020-10-06T21:30:18.875895Z",
     "iopub.status.busy": "2020-10-06T21:30:18.874621Z",
     "iopub.status.idle": "2020-10-06T21:49:59.410271Z",
     "shell.execute_reply": "2020-10-06T21:49:59.411560Z"
    },
    "papermill": {
     "duration": 1184.636954,
     "end_time": "2020-10-06T21:49:59.411827",
     "exception": false,
     "start_time": "2020-10-06T21:30:14.774873",
     "status": "completed"
    },
    "tags": [],
    "ExecuteTime": {
     "end_time": "2023-06-23T17:50:47.411351774Z",
     "start_time": "2023-06-23T17:41:43.458527771Z"
    }
   },
   "outputs": [
    {
     "name": "stdout",
     "output_type": "stream",
     "text": [
      "Epoch 1/10\n",
      "645/645 [==============================] - ETA: 0s - loss: 0.7829 - accuracy: 0.6574\n",
      "Epoch 1: val_accuracy improved from -inf to 0.74574, saving model to best_bi_lstm.hdf5\n",
      "645/645 [==============================] - 56s 83ms/step - loss: 0.7829 - accuracy: 0.6574 - val_loss: 0.6158 - val_accuracy: 0.7457\n",
      "Epoch 2/10\n",
      "645/645 [==============================] - ETA: 0s - loss: 0.5591 - accuracy: 0.7762\n",
      "Epoch 2: val_accuracy improved from 0.74574 to 0.78024, saving model to best_bi_lstm.hdf5\n",
      "645/645 [==============================] - 54s 84ms/step - loss: 0.5591 - accuracy: 0.7762 - val_loss: 0.5369 - val_accuracy: 0.7802\n",
      "Epoch 3/10\n",
      "645/645 [==============================] - ETA: 0s - loss: 0.4984 - accuracy: 0.8053\n",
      "Epoch 3: val_accuracy improved from 0.78024 to 0.80949, saving model to best_bi_lstm.hdf5\n",
      "645/645 [==============================] - 53s 83ms/step - loss: 0.4984 - accuracy: 0.8053 - val_loss: 0.4870 - val_accuracy: 0.8095\n",
      "Epoch 4/10\n",
      "645/645 [==============================] - ETA: 0s - loss: 0.4668 - accuracy: 0.8215\n",
      "Epoch 4: val_accuracy improved from 0.80949 to 0.81793, saving model to best_bi_lstm.hdf5\n",
      "645/645 [==============================] - 54s 83ms/step - loss: 0.4668 - accuracy: 0.8215 - val_loss: 0.4743 - val_accuracy: 0.8179\n",
      "Epoch 5/10\n",
      "645/645 [==============================] - ETA: 0s - loss: 0.4500 - accuracy: 0.8275\n",
      "Epoch 5: val_accuracy did not improve from 0.81793\n",
      "645/645 [==============================] - 53s 83ms/step - loss: 0.4500 - accuracy: 0.8275 - val_loss: 0.4680 - val_accuracy: 0.8121\n",
      "Epoch 6/10\n",
      "645/645 [==============================] - ETA: 0s - loss: 0.4319 - accuracy: 0.8359\n",
      "Epoch 6: val_accuracy improved from 0.81793 to 0.82361, saving model to best_bi_lstm.hdf5\n",
      "645/645 [==============================] - 55s 85ms/step - loss: 0.4319 - accuracy: 0.8359 - val_loss: 0.4639 - val_accuracy: 0.8236\n",
      "Epoch 7/10\n",
      "645/645 [==============================] - ETA: 0s - loss: 0.4204 - accuracy: 0.8402\n",
      "Epoch 7: val_accuracy improved from 0.82361 to 0.82608, saving model to best_bi_lstm.hdf5\n",
      "645/645 [==============================] - 54s 84ms/step - loss: 0.4204 - accuracy: 0.8402 - val_loss: 0.4480 - val_accuracy: 0.8261\n",
      "Epoch 8/10\n",
      "645/645 [==============================] - ETA: 0s - loss: 0.4091 - accuracy: 0.8439\n",
      "Epoch 8: val_accuracy did not improve from 0.82608\n",
      "645/645 [==============================] - 54s 83ms/step - loss: 0.4091 - accuracy: 0.8439 - val_loss: 0.4491 - val_accuracy: 0.8258\n",
      "Epoch 9/10\n",
      "645/645 [==============================] - ETA: 0s - loss: 0.3985 - accuracy: 0.8497\n",
      "Epoch 9: val_accuracy improved from 0.82608 to 0.82826, saving model to best_bi_lstm.hdf5\n",
      "645/645 [==============================] - 56s 86ms/step - loss: 0.3985 - accuracy: 0.8497 - val_loss: 0.4485 - val_accuracy: 0.8283\n",
      "Epoch 10/10\n",
      "645/645 [==============================] - ETA: 0s - loss: 0.3887 - accuracy: 0.8526\n",
      "Epoch 10: val_accuracy improved from 0.82826 to 0.83016, saving model to best_bi_lstm.hdf5\n",
      "645/645 [==============================] - 54s 84ms/step - loss: 0.3887 - accuracy: 0.8526 - val_loss: 0.4451 - val_accuracy: 0.8302\n"
     ]
    }
   ],
   "source": [
    "# Build model\n",
    "bi_lstm = Sequential()\n",
    "bi_lstm.add(layers.Embedding(max_words, 40, input_length=max_len))\n",
    "bi_lstm.add(layers.Bidirectional(layers.LSTM(20, dropout=0.6)))\n",
    "bi_lstm.add(layers.Dense(3, activation='softmax'))\n",
    "\n",
    "# Compile model\n",
    "bi_lstm.compile(optimizer='rmsprop', loss='categorical_crossentropy', metrics=['accuracy'])\n",
    "\n",
    "# Init model checkpoins\n",
    "checkpoint_bi = ModelCheckpoint(\"best_bi_lstm.hdf5\", monitor='val_accuracy', verbose=1, save_best_only=True, mode='auto', save_freq='epoch', save_weights_only=False)\n",
    "\n",
    "# Save history\n",
    "history_bi = bi_lstm.fit(X_train, y_train, epochs=10, validation_data=(X_test, y_test), callbacks=[checkpoint_bi])"
   ]
  },
  {
   "cell_type": "markdown",
   "metadata": {},
   "source": [
    "The achieved performance is quite satisfactory, even when considering the simplicity of the model and the lack of specific efforts to fine-tune the hyperparameters. By making targeted adjustments, even more significant outcomes can be obtained. However, it's important to recognize that there is no secret formula for optimizing the model. The key lies in refining the model's structure to enhance its ability to comprehend intricate patterns effectively, while also addressing the challenge of overfitting through regularization techniques.\n",
    "\n",
    "An essential point to highlight is that if you observe the model's accuracy or loss reaching a plateau, it is likely because of a low learning rate, which causes the optimizer to get stuck in a local minimum of the loss function. In such instances, increasing the learning rate or trying an alternative optimizer can help overcome this limitation."
   ]
  },
  {
   "cell_type": "markdown",
   "metadata": {
    "papermill": {
     "duration": 11.452373,
     "end_time": "2020-10-06T21:50:21.772094",
     "exception": false,
     "start_time": "2020-10-06T21:50:10.319721",
     "status": "completed"
    },
    "tags": []
   },
   "source": [
    "## 1D Convolutional model\n",
    "\n",
    "This model is recognized for its fast convergence and low computational requirements. However, it is important to mention that, based on previous experience, this specific model tends to fit excessively to small datasets.\n",
    "\n",
    "The model utilizes similar principles as classical 2D Convolutional Neural Networks (ConvNets) commonly used for image classification. Specifically, the convolutional layers in this model extract patches from tensors of varying dimensions based on the task and layer. These layers then apply consistent convolutional transformations to each patch, resulting in multiple subsequences as output.\n",
    "\n",
    "The remarkable aspect of these convolutional layers is their ability to detect patterns within a sequence. Notably, a pattern learned at one position in a sentence can be recognized at a different position within the same sentence or even in another sentence. This characteristic emphasizes the effectiveness of convolutional layers in capturing and understanding sequential patterns."
   ]
  },
  {
   "cell_type": "code",
   "execution_count": 14,
   "metadata": {
    "execution": {
     "iopub.execute_input": "2020-10-06T21:50:43.900261Z",
     "iopub.status.busy": "2020-10-06T21:50:43.899061Z",
     "iopub.status.idle": "2020-10-06T21:56:48.149729Z",
     "shell.execute_reply": "2020-10-06T21:56:48.149055Z"
    },
    "papermill": {
     "duration": 375.351238,
     "end_time": "2020-10-06T21:56:48.149913",
     "exception": false,
     "start_time": "2020-10-06T21:50:32.798675",
     "status": "completed"
    },
    "tags": [],
    "ExecuteTime": {
     "end_time": "2023-06-23T17:51:41.075257954Z",
     "start_time": "2023-06-23T17:50:47.411227132Z"
    }
   },
   "outputs": [
    {
     "name": "stdout",
     "output_type": "stream",
     "text": [
      "Epoch 1/10\n",
      "645/645 [==============================] - 7s 9ms/step - loss: 1.0599 - acc: 0.5308 - val_loss: 0.9204 - val_acc: 0.5980\n",
      "Epoch 2/10\n",
      "645/645 [==============================] - 5s 8ms/step - loss: 0.8810 - acc: 0.6031 - val_loss: 0.8627 - val_acc: 0.6118\n",
      "Epoch 3/10\n",
      "645/645 [==============================] - 5s 8ms/step - loss: 0.8391 - acc: 0.6182 - val_loss: 0.8404 - val_acc: 0.6268\n",
      "Epoch 4/10\n",
      "645/645 [==============================] - 5s 8ms/step - loss: 0.8073 - acc: 0.6366 - val_loss: 0.8109 - val_acc: 0.6402\n",
      "Epoch 5/10\n",
      "645/645 [==============================] - 5s 8ms/step - loss: 0.7671 - acc: 0.7023 - val_loss: 0.7875 - val_acc: 0.6446\n",
      "Epoch 6/10\n",
      "645/645 [==============================] - 5s 8ms/step - loss: 0.6907 - acc: 0.7609 - val_loss: 0.6907 - val_acc: 0.7491\n",
      "Epoch 7/10\n",
      "645/645 [==============================] - 5s 8ms/step - loss: 0.6317 - acc: 0.7767 - val_loss: 0.6527 - val_acc: 0.7676\n",
      "Epoch 8/10\n",
      "645/645 [==============================] - 5s 8ms/step - loss: 0.5886 - acc: 0.7994 - val_loss: 0.6421 - val_acc: 0.7770\n",
      "Epoch 9/10\n",
      "645/645 [==============================] - 5s 8ms/step - loss: 0.5489 - acc: 0.8196 - val_loss: 0.5849 - val_acc: 0.7994\n",
      "Epoch 10/10\n",
      "645/645 [==============================] - 5s 8ms/step - loss: 0.5150 - acc: 0.8372 - val_loss: 0.5660 - val_acc: 0.8099\n"
     ]
    }
   ],
   "source": [
    "# Build model\n",
    "conv1D_model = Sequential()\n",
    "conv1D_model.add(layers.Embedding(max_words, 40, input_length=max_len))\n",
    "conv1D_model.add(layers.Conv1D(20, 6, activation='relu',kernel_regularizer=regularizers.l1_l2(l1=2e-3, l2=2e-3), bias_regularizer=regularizers.l2(2e-3)))\n",
    "conv1D_model.add(layers.MaxPooling1D(5))\n",
    "conv1D_model.add(layers.Conv1D(20, 6, activation='relu',kernel_regularizer=regularizers.l1_l2(l1=2e-3, l2=2e-3), bias_regularizer=regularizers.l2(2e-3)))\n",
    "conv1D_model.add(layers.GlobalMaxPooling1D())\n",
    "conv1D_model.add(layers.Dense(3, activation='softmax'))\n",
    "\n",
    "# Compile model\n",
    "conv1D_model.compile(optimizer='rmsprop', loss='categorical_crossentropy', metrics=['acc'])\n",
    "\n",
    "# Init checkpoints\n",
    "checkpoint_conv1D = ModelCheckpoint(\"best_conv1D.hdf5\", monitor='val_accuracy', verbose=1, save_best_only=True, mode='auto', save_freq='epoch', save_weights_only=False)\n",
    "\n",
    "# Save history\n",
    "history_conv1D = conv1D_model.fit(X_train, y_train, epochs=10, validation_data=(X_test, y_test), callbacks=[checkpoint_conv1D])"
   ]
  },
  {
   "cell_type": "markdown",
   "metadata": {
    "papermill": {
     "duration": 13.181114,
     "end_time": "2020-10-06T21:57:15.037099",
     "exception": false,
     "start_time": "2020-10-06T21:57:01.855985",
     "status": "completed"
    },
    "tags": []
   },
   "source": [
    "Conv1D layers are responsible for performing the convolution operations, while MaxPooling1D layers play a vital role in reducing the dimensionality of each convolutional output. Following the convolution operation, the MaxPooling window identifies and extracts the highest value within its defined scope, generating patches composed of these maximum values.\n",
    "\n",
    "It is crucial to emphasize the significance of incorporating regularizers into this configuration. Without proper regularization techniques, your network may learn irrelevant patterns and exhibit rapid overfitting."
   ]
  },
  {
   "cell_type": "markdown",
   "metadata": {},
   "source": [
    "# Run Predictions\n",
    "Finally, the best-performing model is utilized to run predictions on the test dataset:"
   ]
  },
  {
   "cell_type": "code",
   "execution_count": 15,
   "metadata": {
    "ExecuteTime": {
     "end_time": "2023-06-23T17:51:50.684582103Z",
     "start_time": "2023-06-23T17:51:41.079028758Z"
    }
   },
   "outputs": [
    {
     "name": "stdout",
     "output_type": "stream",
     "text": [
      "215/215 - 4s - loss: 0.4451 - accuracy: 0.8302 - 4s/epoch - 21ms/step\n",
      "Model accuracy:  0.8301557302474976\n",
      "215/215 [==============================] - 5s 18ms/step\n"
     ]
    }
   ],
   "source": [
    "# Loading the best model\n",
    "best_model = keras.models.load_model(\"best_bi_lstm.hdf5\")\n",
    "\n",
    "# Evaluate model\n",
    "test_loss, test_acc = best_model.evaluate(X_test, y_test, verbose=2)\n",
    "print('Model accuracy: ', test_acc)\n",
    "\n",
    "# Run predictions\n",
    "predictions = best_model.predict(X_test)"
   ]
  },
  {
   "cell_type": "markdown",
   "metadata": {},
   "source": [
    "The results can be visualized in the following plot:"
   ]
  },
  {
   "cell_type": "code",
   "execution_count": 16,
   "metadata": {
    "ExecuteTime": {
     "end_time": "2023-06-23T17:51:51.062961885Z",
     "start_time": "2023-06-23T17:51:50.727156981Z"
    }
   },
   "outputs": [
    {
     "data": {
      "text/plain": "<Figure size 800x600 with 1 Axes>",
      "image/png": "[encoded data removed]"
     },
     "metadata": {},
     "output_type": "display_data"
    }
   ],
   "source": [
    "sentiment_counts = train['sentiment'].value_counts()\n",
    "\n",
    "plt.figure(figsize=(8, 6))\n",
    "sns.barplot(x=sentiment_counts.index, y=sentiment_counts.values)\n",
    "plt.xlabel('Sentiment')\n",
    "plt.ylabel('Count')\n",
    "plt.title('Sentiment Distribution')\n",
    "plt.show()"
   ]
  },
  {
   "cell_type": "markdown",
   "metadata": {
    "papermill": {
     "duration": 13.54467,
     "end_time": "2020-10-06T21:59:38.859073",
     "exception": false,
     "start_time": "2020-10-06T21:59:25.314403",
     "status": "completed"
    },
    "tags": []
   },
   "source": [
    "To understand how good the predictions are, we can plot the confusion matrix:"
   ]
  },
  {
   "cell_type": "code",
   "execution_count": 17,
   "metadata": {
    "execution": {
     "iopub.execute_input": "2020-10-06T22:00:32.586908Z",
     "iopub.status.busy": "2020-10-06T22:00:32.586210Z",
     "iopub.status.idle": "2020-10-06T22:00:33.285612Z",
     "shell.execute_reply": "2020-10-06T22:00:33.285009Z"
    },
    "papermill": {
     "duration": 14.015558,
     "end_time": "2020-10-06T22:00:33.285736",
     "exception": false,
     "start_time": "2020-10-06T22:00:19.270178",
     "status": "completed"
    },
    "tags": [],
    "ExecuteTime": {
     "end_time": "2023-06-23T17:51:51.318040797Z",
     "start_time": "2023-06-23T17:51:50.975123667Z"
    }
   },
   "outputs": [
    {
     "data": {
      "text/plain": "<Figure size 800x600 with 2 Axes>",
      "image/png": "[encoded data removed]"
     },
     "metadata": {},
     "output_type": "display_data"
    }
   ],
   "source": [
    "# Build confusion matrix\n",
    "matrix = confusion_matrix(y_test.argmax(axis=1), np.around(predictions, decimals=0).argmax(axis=1))\n",
    "conf_matrix = pd.DataFrame(matrix, index=['Neutral', 'Negative', 'Positive'], columns=['Neutral', 'Negative', 'Positive'])\n",
    "\n",
    "# Normalizing\n",
    "conf_matrix = conf_matrix.astype('float') / conf_matrix.sum(axis=1).values[:, np.newaxis]\n",
    "\n",
    "plt.figure(figsize=(8, 6))  # Adjust the figsize as per your preference\n",
    "\n",
    "# Customize color map\n",
    "cmap = sns.diverging_palette(220, 10, as_cmap=True)\n",
    "\n",
    "# Plot the heatmap\n",
    "sns.heatmap(conf_matrix, annot=True, fmt=\".2%\", cmap=cmap, annot_kws={\"size\": 12})\n",
    "\n",
    "# Add labels and title\n",
    "plt.xlabel('Predicted', fontsize=14)\n",
    "plt.ylabel('Actual', fontsize=14)\n",
    "plt.title('Confusion Matrix', fontsize=16)\n",
    "\n",
    "# Adjust the tick labels' size\n",
    "plt.xticks(fontsize=12)\n",
    "plt.yticks(fontsize=12)\n",
    "\n",
    "# Display the plot\n",
    "plt.show()"
   ]
  },
  {
   "cell_type": "markdown",
   "metadata": {},
   "source": [
    "# Conclusion\n",
    "\n",
    "Based on the obtained heatmap, certain observations can be made regarding the classification performance:\n",
    "\n",
    "- When considering the reviews that were **originally positive**, an approximate 80% were accurately identified as positive by the model.\n",
    "- For **negative reviews**, around 75% were correctly classified as negative.\n",
    "- In terms of **neutral reviews**, the model achieved an accuracy of about 90%.\n",
    "\n",
    "It must be noted that the model was trained over only 10 epochs due to computational limitations, increasing the number of epochs may increase the overall accuracy of the model. Although these outcomes demonstrate a respectable baseline performance, there is still potential for improvement. In a business context, achieving higher accuracy is often a priority. Typically, a target accuracy of roughly 95% is deemed feasible for relatively straightforward cases. By acknowledging these baseline findings, we can strive to develop more sophisticated models and enhance the classification process for better performance. This may involve employing various techniques like refining the model architecture, exploring alternate algorithms, optimizing hyperparameters, or utilizing more advanced natural language processing (NLP) methods.\n",
    "\n",
    "Ultimately, the goal is to elevate the model's accuracy to meet or surpass the desired threshold, ensuring more dependable sentiment classification in real-world business scenarios."
   ]
  },
  {
   "cell_type": "markdown",
   "metadata": {
    "papermill": {
     "duration": 12.906403,
     "end_time": "2020-10-06T22:00:59.275554",
     "exception": false,
     "start_time": "2020-10-06T22:00:46.369151",
     "status": "completed"
    },
    "tags": []
   },
   "source": [
    "# Bonus\n",
    "\n",
    "The model can also be tested against an arbitrary input text using the following function:"
   ]
  },
  {
   "cell_type": "code",
   "execution_count": 18,
   "metadata": {
    "execution": {
     "iopub.execute_input": "2020-10-06T22:01:26.949303Z",
     "iopub.status.busy": "2020-10-06T22:01:26.947906Z",
     "iopub.status.idle": "2020-10-06T22:01:26.951809Z",
     "shell.execute_reply": "2020-10-06T22:01:26.951229Z"
    },
    "papermill": {
     "duration": 14.303017,
     "end_time": "2020-10-06T22:01:26.951936",
     "exception": false,
     "start_time": "2020-10-06T22:01:12.648919",
     "status": "completed"
    },
    "tags": [],
    "ExecuteTime": {
     "end_time": "2023-06-23T17:51:51.322082350Z",
     "start_time": "2023-06-23T17:51:51.319360192Z"
    }
   },
   "outputs": [],
   "source": [
    "def pred_sent(text: str):\n",
    "    sentiment = ['Neutral','Negative','Positive']\n",
    "    sequence = tokenizer.texts_to_sequences([text])\n",
    "    test = pad_sequences(sequence, maxlen=max_len)\n",
    "    return sentiment[np.around(best_model.predict(test), decimals=0).argmax(axis=1)[0]]"
   ]
  },
  {
   "cell_type": "markdown",
   "metadata": {},
   "source": [
    "The syntax is as follows:"
   ]
  },
  {
   "cell_type": "code",
   "execution_count": 19,
   "metadata": {
    "execution": {
     "iopub.execute_input": "2020-10-06T22:03:14.961947Z",
     "iopub.status.busy": "2020-10-06T22:03:14.960920Z",
     "iopub.status.idle": "2020-10-06T22:03:15.014373Z",
     "shell.execute_reply": "2020-10-06T22:03:15.013738Z"
    },
    "papermill": {
     "duration": 13.646468,
     "end_time": "2020-10-06T22:03:15.014510",
     "exception": false,
     "start_time": "2020-10-06T22:03:01.368042",
     "status": "completed"
    },
    "tags": [],
    "ExecuteTime": {
     "end_time": "2023-06-23T17:51:51.493853460Z",
     "start_time": "2023-06-23T17:51:51.324185816Z"
    }
   },
   "outputs": [
    {
     "name": "stdout",
     "output_type": "stream",
     "text": [
      "1/1 [==============================] - 0s 49ms/step\n",
      "\n",
      "Sentence: I really enjoyed the course about Neural Networks, I found it very interesting. \n",
      "Sentiment: Positive\n"
     ]
    }
   ],
   "source": [
    "# Run a prediction\n",
    "input_text = \"I really enjoyed the course about Neural Networks, I found it very interesting.\"\n",
    "\n",
    "print(\"\\nSentence:\", input_text, \"\\nSentiment:\", pred_sent(input_text))"
   ]
  }
 ],
 "metadata": {
  "kernelspec": {
   "display_name": "Python 3 (ipykernel)",
   "language": "python",
   "name": "python3"
  },
  "language_info": {
   "codemirror_mode": {
    "name": "ipython",
    "version": 3
   },
   "file_extension": ".py",
   "mimetype": "text/x-python",
   "name": "python",
   "nbconvert_exporter": "python",
   "pygments_lexer": "ipython3",
   "version": "3.8.10"
  },
  "papermill": {
   "duration": 2724.650172,
   "end_time": "2020-10-06T22:04:52.151005",
   "environment_variables": {},
   "exception": null,
   "input_path": "__notebook__.ipynb",
   "output_path": "__notebook__.ipynb",
   "parameters": {},
   "start_time": "2020-10-06T21:19:27.500833",
   "version": "2.1.0"
  }
 },
 "nbformat": 4,
 "nbformat_minor": 4
}
